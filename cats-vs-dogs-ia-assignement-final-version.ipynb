{
 "cells": [
  {
   "cell_type": "code",
   "execution_count": 1,
   "id": "c0fc732d",
   "metadata": {
    "execution": {
     "iopub.execute_input": "2022-10-22T12:52:27.116295Z",
     "iopub.status.busy": "2022-10-22T12:52:27.115572Z",
     "iopub.status.idle": "2022-10-22T12:52:27.125781Z",
     "shell.execute_reply": "2022-10-22T12:52:27.124988Z"
    },
    "papermill": {
     "duration": 0.019396,
     "end_time": "2022-10-22T12:52:27.127810",
     "exception": false,
     "start_time": "2022-10-22T12:52:27.108414",
     "status": "completed"
    },
    "tags": []
   },
   "outputs": [],
   "source": [
    "#On spécifie le chemin d'accès des fichiers : train et test100\n",
    "train_dir = \"../input/dogs-vs-cats/train.zip\"\n",
    "test_dir = \"../input/test100/test100\""
   ]
  },
  {
   "cell_type": "code",
   "execution_count": 2,
   "id": "f40b6dc7",
   "metadata": {
    "execution": {
     "iopub.execute_input": "2022-10-22T12:52:27.138851Z",
     "iopub.status.busy": "2022-10-22T12:52:27.138096Z",
     "iopub.status.idle": "2022-10-22T12:52:39.822514Z",
     "shell.execute_reply": "2022-10-22T12:52:39.821501Z"
    },
    "papermill": {
     "duration": 12.692513,
     "end_time": "2022-10-22T12:52:39.825185",
     "exception": false,
     "start_time": "2022-10-22T12:52:27.132672",
     "status": "completed"
    },
    "tags": []
   },
   "outputs": [],
   "source": [
    "# On Importe le module zipfile qui permet de manipuler des fichiers ZIP.\n",
    "import zipfile\n",
    "\n",
    "#On extrait notre fichier zip train:\n",
    "with zipfile.ZipFile(train_dir,'r') as z:\n",
    "    z.extractall()\n",
    "\n",
    "#Après l'extraction des données, on obtient un dossier stocké dans l'output."
   ]
  },
  {
   "cell_type": "code",
   "execution_count": 3,
   "id": "63b8faf2",
   "metadata": {
    "execution": {
     "iopub.execute_input": "2022-10-22T12:52:39.837062Z",
     "iopub.status.busy": "2022-10-22T12:52:39.836240Z",
     "iopub.status.idle": "2022-10-22T12:52:39.909186Z",
     "shell.execute_reply": "2022-10-22T12:52:39.908063Z"
    },
    "papermill": {
     "duration": 0.081198,
     "end_time": "2022-10-22T12:52:39.911699",
     "exception": false,
     "start_time": "2022-10-22T12:52:39.830501",
     "status": "completed"
    },
    "tags": []
   },
   "outputs": [
    {
     "data": {
      "text/html": [
       "<div>\n",
       "<style scoped>\n",
       "    .dataframe tbody tr th:only-of-type {\n",
       "        vertical-align: middle;\n",
       "    }\n",
       "\n",
       "    .dataframe tbody tr th {\n",
       "        vertical-align: top;\n",
       "    }\n",
       "\n",
       "    .dataframe thead th {\n",
       "        text-align: right;\n",
       "    }\n",
       "</style>\n",
       "<table border=\"1\" class=\"dataframe\">\n",
       "  <thead>\n",
       "    <tr style=\"text-align: right;\">\n",
       "      <th></th>\n",
       "      <th>image</th>\n",
       "      <th>label</th>\n",
       "    </tr>\n",
       "  </thead>\n",
       "  <tbody>\n",
       "    <tr>\n",
       "      <th>0</th>\n",
       "      <td>./train/dog.8154.jpg</td>\n",
       "      <td>dog</td>\n",
       "    </tr>\n",
       "    <tr>\n",
       "      <th>1</th>\n",
       "      <td>./train/cat.10618.jpg</td>\n",
       "      <td>cat</td>\n",
       "    </tr>\n",
       "    <tr>\n",
       "      <th>2</th>\n",
       "      <td>./train/dog.7678.jpg</td>\n",
       "      <td>dog</td>\n",
       "    </tr>\n",
       "    <tr>\n",
       "      <th>3</th>\n",
       "      <td>./train/cat.11192.jpg</td>\n",
       "      <td>cat</td>\n",
       "    </tr>\n",
       "    <tr>\n",
       "      <th>4</th>\n",
       "      <td>./train/dog.11191.jpg</td>\n",
       "      <td>dog</td>\n",
       "    </tr>\n",
       "  </tbody>\n",
       "</table>\n",
       "</div>"
      ],
      "text/plain": [
       "                   image label\n",
       "0   ./train/dog.8154.jpg   dog\n",
       "1  ./train/cat.10618.jpg   cat\n",
       "2   ./train/dog.7678.jpg   dog\n",
       "3  ./train/cat.11192.jpg   cat\n",
       "4  ./train/dog.11191.jpg   dog"
      ]
     },
     "metadata": {},
     "output_type": "display_data"
    },
    {
     "data": {
      "text/html": [
       "<div>\n",
       "<style scoped>\n",
       "    .dataframe tbody tr th:only-of-type {\n",
       "        vertical-align: middle;\n",
       "    }\n",
       "\n",
       "    .dataframe tbody tr th {\n",
       "        vertical-align: top;\n",
       "    }\n",
       "\n",
       "    .dataframe thead th {\n",
       "        text-align: right;\n",
       "    }\n",
       "</style>\n",
       "<table border=\"1\" class=\"dataframe\">\n",
       "  <thead>\n",
       "    <tr style=\"text-align: right;\">\n",
       "      <th></th>\n",
       "      <th>test image</th>\n",
       "      <th>label</th>\n",
       "    </tr>\n",
       "  </thead>\n",
       "  <tbody>\n",
       "    <tr>\n",
       "      <th>0</th>\n",
       "      <td>../input/test100/test100/dog.83.jpg</td>\n",
       "      <td>dog</td>\n",
       "    </tr>\n",
       "    <tr>\n",
       "      <th>1</th>\n",
       "      <td>../input/test100/test100/dog.1.jpg</td>\n",
       "      <td>dog</td>\n",
       "    </tr>\n",
       "    <tr>\n",
       "      <th>2</th>\n",
       "      <td>../input/test100/test100/cat.14.jpg</td>\n",
       "      <td>cat</td>\n",
       "    </tr>\n",
       "    <tr>\n",
       "      <th>3</th>\n",
       "      <td>../input/test100/test100/dog.74.jpg</td>\n",
       "      <td>dog</td>\n",
       "    </tr>\n",
       "    <tr>\n",
       "      <th>4</th>\n",
       "      <td>../input/test100/test100/cat.22.jpg</td>\n",
       "      <td>cat</td>\n",
       "    </tr>\n",
       "  </tbody>\n",
       "</table>\n",
       "</div>"
      ],
      "text/plain": [
       "                            test image label\n",
       "0  ../input/test100/test100/dog.83.jpg   dog\n",
       "1   ../input/test100/test100/dog.1.jpg   dog\n",
       "2  ../input/test100/test100/cat.14.jpg   cat\n",
       "3  ../input/test100/test100/dog.74.jpg   dog\n",
       "4  ../input/test100/test100/cat.22.jpg   cat"
      ]
     },
     "metadata": {},
     "output_type": "display_data"
    }
   ],
   "source": [
    "#on importe le module os qui permet d'intéragir avec le système d'exploitation\n",
    "import os\n",
    "\n",
    "#On crée une liste \"images\" qui contient le nom de tous les fichiers dans le dossier \"train\"\n",
    "images = os.listdir(\"./train\")\n",
    "\n",
    "#On crée une liste \"test_images\" qui contient le nom de tous les fichiers dans le dossier \"test100\"\n",
    "test_images = os.listdir(test_dir)\n",
    "\n",
    "#On importe la bibliothèque pandas permettant la manipulation et l'analyse des données.\n",
    "import pandas as pd\n",
    "\n",
    "#On utilise la fonction DataFrame() qui organise les données en lignes et en colonnes:\n",
    "data = pd.DataFrame(images)\n",
    "test_data = pd.DataFrame(test_images)\n",
    "\n",
    "#On change le nom de la colonne pour data et test data de \"0\" à, respectivement, \"image\" et \"test image\":\n",
    "data = data.rename(columns = {0:'image'})\n",
    "test_data = test_data.rename(columns = {0: 'test image'})\n",
    "\n",
    "#On ajoute le chemin d'accès avant le nom de chaque element dans chaque colonne de nos deux données:\n",
    "data['image'] = data['image'].apply(lambda x: './train/' + x)\n",
    "test_data['test image']= test_data['test image'].apply(lambda x: test_dir + \"/\"+ x)\n",
    "\n",
    "#Notons que la colonne \"image\"/\"test image\" contient le chemin d'accès de chaque image !\n",
    "\n",
    "#On crée une nouvelle variable \"label\" qui prend les valeurs \"dog\" ou \"cat\" selon x:\n",
    "data['label'] = data['image'].apply(lambda x: 'cat' if 'cat' in x else 'dog')\n",
    "test_data['label'] = test_data['test image'].apply(lambda x: 'cat' if 'cat' in x else 'dog')\n",
    "\n",
    "#On observe les 5 premières lignes de notre data:\n",
    "display(data.head())\n",
    "display(test_data.head())"
   ]
  },
  {
   "cell_type": "code",
   "execution_count": 4,
   "id": "9ca6fc10",
   "metadata": {
    "execution": {
     "iopub.execute_input": "2022-10-22T12:52:39.923019Z",
     "iopub.status.busy": "2022-10-22T12:52:39.922735Z",
     "iopub.status.idle": "2022-10-22T12:52:39.930430Z",
     "shell.execute_reply": "2022-10-22T12:52:39.929449Z"
    },
    "papermill": {
     "duration": 0.015607,
     "end_time": "2022-10-22T12:52:39.932443",
     "exception": false,
     "start_time": "2022-10-22T12:52:39.916836",
     "status": "completed"
    },
    "tags": []
   },
   "outputs": [
    {
     "data": {
      "text/plain": [
       "(25000, 2)"
      ]
     },
     "metadata": {},
     "output_type": "display_data"
    },
    {
     "data": {
      "text/plain": [
       "(100, 2)"
      ]
     },
     "metadata": {},
     "output_type": "display_data"
    }
   ],
   "source": [
    "# Data contient 25000 observations (lignes) et 2 variables (colonnes)\n",
    "display(data.shape)\n",
    "\n",
    "# Test data contient 100 observations (lignes) et 2 variables (colonnes)\n",
    "display(test_data.shape)"
   ]
  },
  {
   "cell_type": "code",
   "execution_count": 5,
   "id": "a7f28c39",
   "metadata": {
    "execution": {
     "iopub.execute_input": "2022-10-22T12:52:39.943655Z",
     "iopub.status.busy": "2022-10-22T12:52:39.943405Z",
     "iopub.status.idle": "2022-10-22T12:52:39.951244Z",
     "shell.execute_reply": "2022-10-22T12:52:39.950220Z"
    },
    "papermill": {
     "duration": 0.017347,
     "end_time": "2022-10-22T12:52:39.954847",
     "exception": false,
     "start_time": "2022-10-22T12:52:39.937500",
     "status": "completed"
    },
    "tags": []
   },
   "outputs": [
    {
     "name": "stdout",
     "output_type": "stream",
     "text": [
      "(20000, 2)\n",
      "(5000, 2)\n"
     ]
    }
   ],
   "source": [
    "#On scinde notre data en deux sous-ensembles de données:\n",
    "\n",
    "#Données d'entraînement : 80% de lignes (20000) et 2 colonnes\n",
    "train_data = data.iloc[0:20000, 0:2]\n",
    "print(train_data.shape)\n",
    "\n",
    "#Données de validation: 20% de lignes (5000) et 2 colonnes\n",
    "validation_data = data.iloc[20000:25000, 0:2]\n",
    "print(validation_data.shape)"
   ]
  },
  {
   "cell_type": "code",
   "execution_count": 6,
   "id": "c9c23d47",
   "metadata": {
    "execution": {
     "iopub.execute_input": "2022-10-22T12:52:39.966859Z",
     "iopub.status.busy": "2022-10-22T12:52:39.966555Z",
     "iopub.status.idle": "2022-10-22T12:52:45.195360Z",
     "shell.execute_reply": "2022-10-22T12:52:45.193301Z"
    },
    "papermill": {
     "duration": 5.237977,
     "end_time": "2022-10-22T12:52:45.198468",
     "exception": false,
     "start_time": "2022-10-22T12:52:39.960491",
     "status": "completed"
    },
    "tags": []
   },
   "outputs": [],
   "source": [
    "# On importe le module ImageDataGenerator qui génère des lots de données d'images tensorielles avec une augmentation des données en temps réel.\n",
    "from tensorflow.keras.preprocessing.image import ImageDataGenerator"
   ]
  },
  {
   "cell_type": "code",
   "execution_count": 7,
   "id": "a6ba6faf",
   "metadata": {
    "execution": {
     "iopub.execute_input": "2022-10-22T12:52:45.216833Z",
     "iopub.status.busy": "2022-10-22T12:52:45.216190Z",
     "iopub.status.idle": "2022-10-22T12:52:45.222128Z",
     "shell.execute_reply": "2022-10-22T12:52:45.221285Z"
    },
    "papermill": {
     "duration": 0.01864,
     "end_time": "2022-10-22T12:52:45.226069",
     "exception": false,
     "start_time": "2022-10-22T12:52:45.207429",
     "status": "completed"
    },
    "tags": []
   },
   "outputs": [],
   "source": [
    "#Comme 255 est la valeur maximale d'un pixel, on change l'echelle de ces valeurs en divisant par 255 afin qu'elles prennent de nouvelles valeurs allant de 0 à 1.\n",
    "train_datagen =  ImageDataGenerator(rescale=1/255)\n",
    "validation_datagen =  ImageDataGenerator(rescale=1/255)\n",
    "test_datagen = ImageDataGenerator(rescale=1/255)"
   ]
  },
  {
   "cell_type": "code",
   "execution_count": 8,
   "id": "b9a3a32b",
   "metadata": {
    "execution": {
     "iopub.execute_input": "2022-10-22T12:52:45.242367Z",
     "iopub.status.busy": "2022-10-22T12:52:45.242053Z",
     "iopub.status.idle": "2022-10-22T12:52:45.635325Z",
     "shell.execute_reply": "2022-10-22T12:52:45.633731Z"
    },
    "papermill": {
     "duration": 0.405537,
     "end_time": "2022-10-22T12:52:45.639221",
     "exception": false,
     "start_time": "2022-10-22T12:52:45.233684",
     "status": "completed"
    },
    "tags": []
   },
   "outputs": [
    {
     "name": "stdout",
     "output_type": "stream",
     "text": [
      "Found 20000 validated image filenames belonging to 2 classes.\n",
      "Found 5000 validated image filenames belonging to 2 classes.\n",
      "Found 100 validated image filenames belonging to 2 classes.\n"
     ]
    }
   ],
   "source": [
    "#Transformer nos dataframes en batches d'images uniformisées:\n",
    "\n",
    "train_genarator = train_datagen.flow_from_dataframe(train_data, target_size=(150,150),\n",
    "                                                    x_col='image',y_col='label',class_mode='binary',batch_size = 32)\n",
    "\n",
    "validation_genarator = validation_datagen.flow_from_dataframe(validation_data,target_size=(150,150),\n",
    "                                                         x_col='image',y_col='label',class_mode='binary',batch_size= 32)\n",
    "\n",
    "test_generator = test_datagen.flow_from_dataframe(test_data,target_size=(150,150),\n",
    "                                                        x_col='test image',y_col='label',class_mode='binary',batch_size= 32)"
   ]
  },
  {
   "cell_type": "code",
   "execution_count": 9,
   "id": "72f8b566",
   "metadata": {
    "execution": {
     "iopub.execute_input": "2022-10-22T12:52:45.657957Z",
     "iopub.status.busy": "2022-10-22T12:52:45.657475Z",
     "iopub.status.idle": "2022-10-22T12:52:45.666061Z",
     "shell.execute_reply": "2022-10-22T12:52:45.665053Z"
    },
    "papermill": {
     "duration": 0.02053,
     "end_time": "2022-10-22T12:52:45.668594",
     "exception": false,
     "start_time": "2022-10-22T12:52:45.648064",
     "status": "completed"
    },
    "tags": []
   },
   "outputs": [],
   "source": [
    "#Importer tous les bibliothèques et les modules nécéssaire à la construction de notre modèle:\n",
    "\n",
    "import tensorflow as tf \n",
    "\n",
    "from tensorflow import keras\n",
    "\n",
    "from keras.models import Sequential\n",
    "\n",
    "from keras.models import load_model\n",
    "\n",
    "from keras.layers import Conv2D, MaxPooling2D, Dense, Dropout, Flatten\n",
    "\n",
    "from keras import optimizers\n",
    "\n",
    "from tensorflow.keras import regularizers\n",
    "\n",
    "import numpy as np\n",
    "\n",
    "import pandas as pd\n",
    "\n",
    "import matplotlib.pyplot as plt\n",
    "\n",
    "from tqdm import tqdm"
   ]
  },
  {
   "cell_type": "code",
   "execution_count": 10,
   "id": "712a9b64",
   "metadata": {
    "execution": {
     "iopub.execute_input": "2022-10-22T12:52:45.686302Z",
     "iopub.status.busy": "2022-10-22T12:52:45.685823Z",
     "iopub.status.idle": "2022-10-22T12:52:48.575493Z",
     "shell.execute_reply": "2022-10-22T12:52:48.574566Z"
    },
    "papermill": {
     "duration": 2.900732,
     "end_time": "2022-10-22T12:52:48.577732",
     "exception": false,
     "start_time": "2022-10-22T12:52:45.677000",
     "status": "completed"
    },
    "tags": []
   },
   "outputs": [
    {
     "name": "stderr",
     "output_type": "stream",
     "text": [
      "2022-10-22 12:52:45.794106: I tensorflow/stream_executor/cuda/cuda_gpu_executor.cc:937] successful NUMA node read from SysFS had negative value (-1), but there must be at least one NUMA node, so returning NUMA node zero\n",
      "2022-10-22 12:52:45.917699: I tensorflow/stream_executor/cuda/cuda_gpu_executor.cc:937] successful NUMA node read from SysFS had negative value (-1), but there must be at least one NUMA node, so returning NUMA node zero\n",
      "2022-10-22 12:52:45.918757: I tensorflow/stream_executor/cuda/cuda_gpu_executor.cc:937] successful NUMA node read from SysFS had negative value (-1), but there must be at least one NUMA node, so returning NUMA node zero\n",
      "2022-10-22 12:52:45.920838: I tensorflow/core/platform/cpu_feature_guard.cc:142] This TensorFlow binary is optimized with oneAPI Deep Neural Network Library (oneDNN) to use the following CPU instructions in performance-critical operations:  AVX2 AVX512F FMA\n",
      "To enable them in other operations, rebuild TensorFlow with the appropriate compiler flags.\n",
      "2022-10-22 12:52:45.921172: I tensorflow/stream_executor/cuda/cuda_gpu_executor.cc:937] successful NUMA node read from SysFS had negative value (-1), but there must be at least one NUMA node, so returning NUMA node zero\n",
      "2022-10-22 12:52:45.922105: I tensorflow/stream_executor/cuda/cuda_gpu_executor.cc:937] successful NUMA node read from SysFS had negative value (-1), but there must be at least one NUMA node, so returning NUMA node zero\n",
      "2022-10-22 12:52:45.923067: I tensorflow/stream_executor/cuda/cuda_gpu_executor.cc:937] successful NUMA node read from SysFS had negative value (-1), but there must be at least one NUMA node, so returning NUMA node zero\n",
      "2022-10-22 12:52:48.124427: I tensorflow/stream_executor/cuda/cuda_gpu_executor.cc:937] successful NUMA node read from SysFS had negative value (-1), but there must be at least one NUMA node, so returning NUMA node zero\n",
      "2022-10-22 12:52:48.125262: I tensorflow/stream_executor/cuda/cuda_gpu_executor.cc:937] successful NUMA node read from SysFS had negative value (-1), but there must be at least one NUMA node, so returning NUMA node zero\n",
      "2022-10-22 12:52:48.125942: I tensorflow/stream_executor/cuda/cuda_gpu_executor.cc:937] successful NUMA node read from SysFS had negative value (-1), but there must be at least one NUMA node, so returning NUMA node zero\n",
      "2022-10-22 12:52:48.126650: I tensorflow/core/common_runtime/gpu/gpu_device.cc:1510] Created device /job:localhost/replica:0/task:0/device:GPU:0 with 15403 MB memory:  -> device: 0, name: Tesla P100-PCIE-16GB, pci bus id: 0000:00:04.0, compute capability: 6.0\n"
     ]
    }
   ],
   "source": [
    "#On spécifie un modèle sequentiel : empilement simple de couches où chaque couche a exactement un tenseur d'entrée et un de sortie\n",
    "model = Sequential()\n",
    "\n",
    "#On définit quatres couches de convolution, chacune suivie d'une couche de maxpooling de dimension 2x2\n",
    "\n",
    "#La première couche contient 32 filtres, de dimension 3x3 et avec la fonction d'activation \"relu\". \n",
    "#Notons qu'elle prenne des élements d'entrée de dimension 150x150x3 !\n",
    "model.add(Conv2D(filters=32, kernel_size=(3,3), input_shape=(150, 150, 3), activation='relu'))\n",
    "model.add(MaxPooling2D(pool_size=2))\n",
    "\n",
    "#En passant à la deuxième couche, on a augmenté le nombre des filtres à 64.\n",
    "model.add(Conv2D(filters=64, kernel_size=(3,3), activation = 'relu'))\n",
    "model.add(MaxPooling2D(pool_size=2))\n",
    "\n",
    "#Et finalement, les deux dernières couches contiennent 128 filtres chacune. \n",
    "model.add(Conv2D(filters=128, kernel_size=(3,3), activation = 'relu'))\n",
    "model.add(MaxPooling2D(pool_size=2))\n",
    "\n",
    "model.add(Conv2D(filters=128, kernel_size=(3,3), activation = 'relu'))\n",
    "model.add(MaxPooling2D(pool_size=2))\n",
    "\n",
    "#On utilise la fonction Flatten pour applatir les tenseurs d'entrée multidimensionnels en une seule dimension.\n",
    "model.add(Flatten())\n",
    "\n",
    "#La couche Dense transforme la matrice d'entrée en vecteur ligne, elle performe aussi des opérations de simplification.\n",
    "model.add(Dense(512, activation='relu', kernel_regularizer=keras.regularizers.l2(l=0.01)))\n",
    "\n",
    "#La couche Dropout donne de manière aléatoire la valeur 0 aux elements d'entrée avec une fréquence de 0.25 à chaque étape pendant la durée de l'entrainement.\n",
    "model.add(Dropout(0.25))\n",
    "\n",
    "#Cette couche dense génère un seul nombre et utilise la fonction d'activation \"sigmoid\".\n",
    "model.add(Dense(1, activation='sigmoid'))"
   ]
  },
  {
   "cell_type": "code",
   "execution_count": 11,
   "id": "0849c678",
   "metadata": {
    "execution": {
     "iopub.execute_input": "2022-10-22T12:52:48.589870Z",
     "iopub.status.busy": "2022-10-22T12:52:48.589580Z",
     "iopub.status.idle": "2022-10-22T12:52:49.525065Z",
     "shell.execute_reply": "2022-10-22T12:52:49.523870Z"
    },
    "papermill": {
     "duration": 0.943991,
     "end_time": "2022-10-22T12:52:49.527305",
     "exception": false,
     "start_time": "2022-10-22T12:52:48.583314",
     "status": "completed"
    },
    "tags": []
   },
   "outputs": [
    {
     "data": {
      "image/png": "[encoded data removed]",
      "text/plain": [
       "<IPython.core.display.Image object>"
      ]
     },
     "execution_count": 11,
     "metadata": {},
     "output_type": "execute_result"
    }
   ],
   "source": [
    "#Un aperçu syntéthique de notre modèle et ses couches:\n",
    "from tensorflow.keras.utils import plot_model\n",
    "plot_model(model, to_file='cnn_model.png', show_shapes=True, show_layer_names=True)"
   ]
  },
  {
   "cell_type": "code",
   "execution_count": 12,
   "id": "044ba230",
   "metadata": {
    "execution": {
     "iopub.execute_input": "2022-10-22T12:52:49.543767Z",
     "iopub.status.busy": "2022-10-22T12:52:49.543468Z",
     "iopub.status.idle": "2022-10-22T12:52:49.558932Z",
     "shell.execute_reply": "2022-10-22T12:52:49.558119Z"
    },
    "papermill": {
     "duration": 0.025301,
     "end_time": "2022-10-22T12:52:49.560840",
     "exception": false,
     "start_time": "2022-10-22T12:52:49.535539",
     "status": "completed"
    },
    "tags": []
   },
   "outputs": [],
   "source": [
    "#On utilise l'optimisateur Adam avec un pas d'apprentissage de 0.001: \n",
    "opt = keras.optimizers.Adam(learning_rate=0.001)\n",
    "\n",
    "#On configure le modèle pour l'entrainement: la fontion loss, l'optimisateur et la fonction metrics permettant d'évaluer le modèle.\n",
    "model.compile(loss='binary_crossentropy', optimizer=opt, metrics=['accuracy'])"
   ]
  },
  {
   "cell_type": "code",
   "execution_count": 13,
   "id": "5d427487",
   "metadata": {
    "execution": {
     "iopub.execute_input": "2022-10-22T12:52:49.575292Z",
     "iopub.status.busy": "2022-10-22T12:52:49.575022Z",
     "iopub.status.idle": "2022-10-22T12:52:49.581073Z",
     "shell.execute_reply": "2022-10-22T12:52:49.580180Z"
    },
    "papermill": {
     "duration": 0.016388,
     "end_time": "2022-10-22T12:52:49.583873",
     "exception": false,
     "start_time": "2022-10-22T12:52:49.567485",
     "status": "completed"
    },
    "tags": []
   },
   "outputs": [
    {
     "name": "stdout",
     "output_type": "stream",
     "text": [
      "Model: \"sequential\"\n",
      "_________________________________________________________________\n",
      "Layer (type)                 Output Shape              Param #   \n",
      "=================================================================\n",
      "conv2d (Conv2D)              (None, 148, 148, 32)      896       \n",
      "_________________________________________________________________\n",
      "max_pooling2d (MaxPooling2D) (None, 74, 74, 32)        0         \n",
      "_________________________________________________________________\n",
      "conv2d_1 (Conv2D)            (None, 72, 72, 64)        18496     \n",
      "_________________________________________________________________\n",
      "max_pooling2d_1 (MaxPooling2 (None, 36, 36, 64)        0         \n",
      "_________________________________________________________________\n",
      "conv2d_2 (Conv2D)            (None, 34, 34, 128)       73856     \n",
      "_________________________________________________________________\n",
      "max_pooling2d_2 (MaxPooling2 (None, 17, 17, 128)       0         \n",
      "_________________________________________________________________\n",
      "conv2d_3 (Conv2D)            (None, 15, 15, 128)       147584    \n",
      "_________________________________________________________________\n",
      "max_pooling2d_3 (MaxPooling2 (None, 7, 7, 128)         0         \n",
      "_________________________________________________________________\n",
      "flatten (Flatten)            (None, 6272)              0         \n",
      "_________________________________________________________________\n",
      "dense (Dense)                (None, 512)               3211776   \n",
      "_________________________________________________________________\n",
      "dropout (Dropout)            (None, 512)               0         \n",
      "_________________________________________________________________\n",
      "dense_1 (Dense)              (None, 1)                 513       \n",
      "=================================================================\n",
      "Total params: 3,453,121\n",
      "Trainable params: 3,453,121\n",
      "Non-trainable params: 0\n",
      "_________________________________________________________________\n"
     ]
    }
   ],
   "source": [
    "#Un résumé utile du modèle, qui comprend : Le nom et le type de toutes les couches du modèle. Forme de sortie pour chaque couche.\n",
    "model.summary()\n",
    "#On remarque une réduction de l'image (dimension de la matrice) et augmentation de la profondeur de la matrice."
   ]
  },
  {
   "cell_type": "code",
   "execution_count": 14,
   "id": "16343461",
   "metadata": {
    "execution": {
     "iopub.execute_input": "2022-10-22T12:52:49.599781Z",
     "iopub.status.busy": "2022-10-22T12:52:49.599103Z",
     "iopub.status.idle": "2022-10-22T12:52:49.792206Z",
     "shell.execute_reply": "2022-10-22T12:52:49.791226Z"
    },
    "papermill": {
     "duration": 0.203762,
     "end_time": "2022-10-22T12:52:49.794645",
     "exception": false,
     "start_time": "2022-10-22T12:52:49.590883",
     "status": "completed"
    },
    "tags": []
   },
   "outputs": [
    {
     "data": {
      "text/plain": [
       "4671"
      ]
     },
     "execution_count": 14,
     "metadata": {},
     "output_type": "execute_result"
    }
   ],
   "source": [
    "#Pour libérer de la mémoire et accélérer le processus:\n",
    "import gc\n",
    "gc.collect()"
   ]
  },
  {
   "cell_type": "code",
   "execution_count": 15,
   "id": "34f19451",
   "metadata": {
    "execution": {
     "iopub.execute_input": "2022-10-22T12:52:49.810105Z",
     "iopub.status.busy": "2022-10-22T12:52:49.809798Z",
     "iopub.status.idle": "2022-10-22T13:17:46.807451Z",
     "shell.execute_reply": "2022-10-22T13:17:46.806524Z"
    },
    "papermill": {
     "duration": 1497.007717,
     "end_time": "2022-10-22T13:17:46.809656",
     "exception": false,
     "start_time": "2022-10-22T12:52:49.801939",
     "status": "completed"
    },
    "tags": []
   },
   "outputs": [
    {
     "name": "stderr",
     "output_type": "stream",
     "text": [
      "2022-10-22 12:52:49.977053: I tensorflow/compiler/mlir/mlir_graph_optimization_pass.cc:185] None of the MLIR Optimization Passes are enabled (registered 2)\n"
     ]
    },
    {
     "name": "stdout",
     "output_type": "stream",
     "text": [
      "Epoch 1/100\n"
     ]
    },
    {
     "name": "stderr",
     "output_type": "stream",
     "text": [
      "2022-10-22 12:52:51.513498: I tensorflow/stream_executor/cuda/cuda_dnn.cc:369] Loaded cuDNN version 8005\n"
     ]
    },
    {
     "name": "stdout",
     "output_type": "stream",
     "text": [
      "625/625 [==============================] - 79s 114ms/step - loss: 0.8167 - accuracy: 0.5785 - val_loss: 0.6896 - val_accuracy: 0.6012\n",
      "Epoch 2/100\n",
      "625/625 [==============================] - 71s 113ms/step - loss: 0.6168 - accuracy: 0.6813 - val_loss: 0.5521 - val_accuracy: 0.7452\n",
      "Epoch 3/100\n",
      "625/625 [==============================] - 71s 114ms/step - loss: 0.5375 - accuracy: 0.7481 - val_loss: 0.4970 - val_accuracy: 0.7784\n",
      "Epoch 4/100\n",
      "625/625 [==============================] - 71s 114ms/step - loss: 0.4877 - accuracy: 0.7864 - val_loss: 0.4589 - val_accuracy: 0.8038\n",
      "Epoch 5/100\n",
      "625/625 [==============================] - 71s 114ms/step - loss: 0.4298 - accuracy: 0.8219 - val_loss: 0.4165 - val_accuracy: 0.8232\n",
      "Epoch 6/100\n",
      "625/625 [==============================] - 71s 114ms/step - loss: 0.3825 - accuracy: 0.8475 - val_loss: 0.3498 - val_accuracy: 0.8620\n",
      "Epoch 7/100\n",
      "625/625 [==============================] - 71s 114ms/step - loss: 0.3314 - accuracy: 0.8726 - val_loss: 0.3638 - val_accuracy: 0.8524\n",
      "Epoch 8/100\n",
      "625/625 [==============================] - 71s 114ms/step - loss: 0.3072 - accuracy: 0.8874 - val_loss: 0.3154 - val_accuracy: 0.8788\n",
      "Epoch 9/100\n",
      "625/625 [==============================] - 71s 114ms/step - loss: 0.2774 - accuracy: 0.8959 - val_loss: 0.2802 - val_accuracy: 0.8930\n",
      "Epoch 10/100\n",
      "625/625 [==============================] - 71s 114ms/step - loss: 0.2586 - accuracy: 0.9047 - val_loss: 0.2861 - val_accuracy: 0.8898\n",
      "Epoch 11/100\n",
      "625/625 [==============================] - 71s 113ms/step - loss: 0.2298 - accuracy: 0.9218 - val_loss: 0.3004 - val_accuracy: 0.8928\n",
      "Epoch 12/100\n",
      "625/625 [==============================] - 70s 113ms/step - loss: 0.2172 - accuracy: 0.9265 - val_loss: 0.2877 - val_accuracy: 0.8930\n",
      "Epoch 13/100\n",
      "625/625 [==============================] - 71s 114ms/step - loss: 0.1450 - accuracy: 0.9567 - val_loss: 0.2483 - val_accuracy: 0.9140\n",
      "Epoch 14/100\n",
      "625/625 [==============================] - 72s 115ms/step - loss: 0.1246 - accuracy: 0.9646 - val_loss: 0.2516 - val_accuracy: 0.9110\n",
      "Epoch 15/100\n",
      "625/625 [==============================] - 71s 114ms/step - loss: 0.1162 - accuracy: 0.9663 - val_loss: 0.2414 - val_accuracy: 0.9120\n",
      "Epoch 16/100\n",
      "625/625 [==============================] - 72s 116ms/step - loss: 0.1090 - accuracy: 0.9697 - val_loss: 0.2488 - val_accuracy: 0.9160\n",
      "Epoch 17/100\n",
      "625/625 [==============================] - 71s 114ms/step - loss: 0.1046 - accuracy: 0.9691 - val_loss: 0.2481 - val_accuracy: 0.9160\n",
      "Epoch 18/100\n",
      "625/625 [==============================] - 71s 114ms/step - loss: 0.0998 - accuracy: 0.9732 - val_loss: 0.2501 - val_accuracy: 0.9160\n",
      "Epoch 19/100\n",
      "625/625 [==============================] - 72s 115ms/step - loss: 0.0889 - accuracy: 0.9775 - val_loss: 0.2484 - val_accuracy: 0.9164\n",
      "Epoch 20/100\n",
      "625/625 [==============================] - 71s 114ms/step - loss: 0.0878 - accuracy: 0.9775 - val_loss: 0.2498 - val_accuracy: 0.9156\n"
     ]
    }
   ],
   "source": [
    "#On spécifie la mesure de performance à monitorer, le déclencheur, et une fois déclenché, il arrêtera le processus d'entrainement.\n",
    "\n",
    "#Aussi, On réduit le pas d'apprentissage lorsqu'une métrique a cessé de s'améliorer.\n",
    "cb = [tf.keras.callbacks.EarlyStopping(monitor = 'val_loss', patience=5, \n",
    "                                              restore_best_weights=True),\n",
    "             tf.keras.callbacks.ReduceLROnPlateau(monitor = 'val_loss' , patience=3)]\n",
    "\n",
    "#Une fois le modèle spécifié, on commence l'entrainement avec 100 époque:\n",
    "history = model.fit(train_genarator, epochs =100, validation_data= validation_genarator,\n",
    "                    callbacks = cb)"
   ]
  },
  {
   "cell_type": "code",
   "execution_count": 16,
   "id": "25ddd044",
   "metadata": {
    "execution": {
     "iopub.execute_input": "2022-10-22T13:17:48.262960Z",
     "iopub.status.busy": "2022-10-22T13:17:48.262527Z",
     "iopub.status.idle": "2022-10-22T13:17:49.161839Z",
     "shell.execute_reply": "2022-10-22T13:17:49.160893Z"
    },
    "papermill": {
     "duration": 1.648818,
     "end_time": "2022-10-22T13:17:49.164088",
     "exception": false,
     "start_time": "2022-10-22T13:17:47.515270",
     "status": "completed"
    },
    "tags": []
   },
   "outputs": [
    {
     "name": "stderr",
     "output_type": "stream",
     "text": [
      "/opt/conda/lib/python3.7/site-packages/keras/engine/training.py:2035: UserWarning: `Model.predict_generator` is deprecated and will be removed in a future version. Please use `Model.predict`, which supports generators.\n",
      "  warnings.warn('`Model.predict_generator` is deprecated and '\n"
     ]
    },
    {
     "data": {
      "text/html": [
       "<div>\n",
       "<style scoped>\n",
       "    .dataframe tbody tr th:only-of-type {\n",
       "        vertical-align: middle;\n",
       "    }\n",
       "\n",
       "    .dataframe tbody tr th {\n",
       "        vertical-align: top;\n",
       "    }\n",
       "\n",
       "    .dataframe thead th {\n",
       "        text-align: right;\n",
       "    }\n",
       "</style>\n",
       "<table border=\"1\" class=\"dataframe\">\n",
       "  <thead>\n",
       "    <tr style=\"text-align: right;\">\n",
       "      <th></th>\n",
       "      <th>Cat probability</th>\n",
       "      <th>Dog probability</th>\n",
       "    </tr>\n",
       "  </thead>\n",
       "  <tbody>\n",
       "    <tr>\n",
       "      <th>0</th>\n",
       "      <td>9.177248e-01</td>\n",
       "      <td>0.082275</td>\n",
       "    </tr>\n",
       "    <tr>\n",
       "      <th>1</th>\n",
       "      <td>1.704655e-02</td>\n",
       "      <td>0.982953</td>\n",
       "    </tr>\n",
       "    <tr>\n",
       "      <th>2</th>\n",
       "      <td>5.109867e-02</td>\n",
       "      <td>0.948901</td>\n",
       "    </tr>\n",
       "    <tr>\n",
       "      <th>3</th>\n",
       "      <td>4.458274e-04</td>\n",
       "      <td>0.999554</td>\n",
       "    </tr>\n",
       "    <tr>\n",
       "      <th>4</th>\n",
       "      <td>2.599682e-02</td>\n",
       "      <td>0.974003</td>\n",
       "    </tr>\n",
       "    <tr>\n",
       "      <th>...</th>\n",
       "      <td>...</td>\n",
       "      <td>...</td>\n",
       "    </tr>\n",
       "    <tr>\n",
       "      <th>95</th>\n",
       "      <td>2.027345e-02</td>\n",
       "      <td>0.979727</td>\n",
       "    </tr>\n",
       "    <tr>\n",
       "      <th>96</th>\n",
       "      <td>9.995578e-01</td>\n",
       "      <td>0.000442</td>\n",
       "    </tr>\n",
       "    <tr>\n",
       "      <th>97</th>\n",
       "      <td>2.772089e-01</td>\n",
       "      <td>0.722791</td>\n",
       "    </tr>\n",
       "    <tr>\n",
       "      <th>98</th>\n",
       "      <td>9.057754e-07</td>\n",
       "      <td>0.999999</td>\n",
       "    </tr>\n",
       "    <tr>\n",
       "      <th>99</th>\n",
       "      <td>8.583114e-01</td>\n",
       "      <td>0.141689</td>\n",
       "    </tr>\n",
       "  </tbody>\n",
       "</table>\n",
       "<p>100 rows × 2 columns</p>\n",
       "</div>"
      ],
      "text/plain": [
       "    Cat probability  Dog probability\n",
       "0      9.177248e-01         0.082275\n",
       "1      1.704655e-02         0.982953\n",
       "2      5.109867e-02         0.948901\n",
       "3      4.458274e-04         0.999554\n",
       "4      2.599682e-02         0.974003\n",
       "..              ...              ...\n",
       "95     2.027345e-02         0.979727\n",
       "96     9.995578e-01         0.000442\n",
       "97     2.772089e-01         0.722791\n",
       "98     9.057754e-07         0.999999\n",
       "99     8.583114e-01         0.141689\n",
       "\n",
       "[100 rows x 2 columns]"
      ]
     },
     "metadata": {},
     "output_type": "display_data"
    }
   ],
   "source": [
    "#On génère les predictions du modèle par rapport aux données de test:\n",
    "predict = model.predict_generator(test_generator)\n",
    "\n",
    "predict = pd.DataFrame(predict)\n",
    "\n",
    "predict = predict.rename(columns = {0:'Cat probability'})\n",
    "\n",
    "predict['Dog probability'] = 1 - predict['Cat probability']\n",
    "\n",
    "display(predict)"
   ]
  },
  {
   "cell_type": "code",
   "execution_count": 17,
   "id": "af98666d",
   "metadata": {
    "execution": {
     "iopub.execute_input": "2022-10-22T13:17:50.534895Z",
     "iopub.status.busy": "2022-10-22T13:17:50.534549Z",
     "iopub.status.idle": "2022-10-22T13:17:51.828324Z",
     "shell.execute_reply": "2022-10-22T13:17:51.827168Z"
    },
    "papermill": {
     "duration": 1.947277,
     "end_time": "2022-10-22T13:17:51.831257",
     "exception": false,
     "start_time": "2022-10-22T13:17:49.883980",
     "status": "completed"
    },
    "tags": []
   },
   "outputs": [
    {
     "name": "stderr",
     "output_type": "stream",
     "text": [
      "/opt/conda/lib/python3.7/site-packages/ipykernel_launcher.py:6: DeprecationWarning: `np.int` is a deprecated alias for the builtin `int`. To silence this warning, use `int` by itself. Doing this will not modify any behavior and is safe. When replacing `np.int`, you may wish to use e.g. `np.int64` or `np.int32` to specify the precision. If you wish to review your current use, check the release note link for additional information.\n",
      "Deprecated in NumPy 1.20; for more details and guidance: https://numpy.org/devdocs/release/1.20.0-notes.html#deprecations\n",
      "  \n"
     ]
    },
    {
     "data": {
      "image/png": "[encoded data removed]",
      "text/plain": [
       "<Figure size 432x432 with 1 Axes>"
      ]
     },
     "metadata": {
      "needs_background": "light"
     },
     "output_type": "display_data"
    }
   ],
   "source": [
    "#Importation des modules:\n",
    "from sklearn.metrics import confusion_matrix, classification_report\n",
    "import seaborn as sns\n",
    "\n",
    "#Si la probabilité dépasse 0.5, la prédiction renvoie \"cat\":\n",
    "predictions = (model.predict(test_generator) >= 0.5).astype(np.int)\n",
    "\n",
    "#On génère la matrice de confusion fournissant une comparaison de la classes prédite et la classe actuelle:\n",
    "cm = confusion_matrix(test_generator.labels, predictions, labels=[0, 1])\n",
    "\n",
    "plt.figure(figsize=(6, 6))\n",
    "sns.heatmap(cm, annot=True, fmt='g', vmin=0, cmap='Blues', cbar=False)\n",
    "plt.xticks(ticks=[0.5, 1.5], labels=[\"cat\", \"dog\"])\n",
    "plt.yticks(ticks=[0.5, 1.5], labels=[\"cat\", \"dog\"])\n",
    "plt.xlabel(\"Predicted\")\n",
    "plt.ylabel(\"Actual\")\n",
    "plt.title(\"Confusion Matrix\")\n",
    "plt.show()"
   ]
  },
  {
   "cell_type": "code",
   "execution_count": 18,
   "id": "526a6647",
   "metadata": {
    "execution": {
     "iopub.execute_input": "2022-10-22T13:17:53.200963Z",
     "iopub.status.busy": "2022-10-22T13:17:53.200610Z",
     "iopub.status.idle": "2022-10-22T13:17:53.212323Z",
     "shell.execute_reply": "2022-10-22T13:17:53.211267Z"
    },
    "papermill": {
     "duration": 0.663828,
     "end_time": "2022-10-22T13:17:53.215052",
     "exception": false,
     "start_time": "2022-10-22T13:17:52.551224",
     "status": "completed"
    },
    "tags": []
   },
   "outputs": [
    {
     "name": "stdout",
     "output_type": "stream",
     "text": [
      "              precision    recall  f1-score   support\n",
      "\n",
      "         cat       0.50      0.50      0.50        50\n",
      "         dog       0.50      0.50      0.50        50\n",
      "\n",
      "    accuracy                           0.50       100\n",
      "   macro avg       0.50      0.50      0.50       100\n",
      "weighted avg       0.50      0.50      0.50       100\n",
      "\n"
     ]
    }
   ],
   "source": [
    "#Rapport de classification:\n",
    "clr = classification_report(test_generator.labels, predictions, labels=[0, 1], target_names=[\"cat\", \"dog\"])\n",
    "print(clr)"
   ]
  },
  {
   "cell_type": "code",
   "execution_count": 19,
   "id": "9ff7d3c5",
   "metadata": {
    "execution": {
     "iopub.execute_input": "2022-10-22T13:17:54.582169Z",
     "iopub.status.busy": "2022-10-22T13:17:54.581794Z",
     "iopub.status.idle": "2022-10-22T13:17:54.675178Z",
     "shell.execute_reply": "2022-10-22T13:17:54.674167Z"
    },
    "papermill": {
     "duration": 0.799961,
     "end_time": "2022-10-22T13:17:54.677496",
     "exception": false,
     "start_time": "2022-10-22T13:17:53.877535",
     "status": "completed"
    },
    "tags": []
   },
   "outputs": [],
   "source": [
    "#On crée un répértoire de travail où on va enregistrer notre modèle\n",
    "os.makedirs(\"./Saved_Models\")\n",
    "\n",
    "#Ensuite, on enregistre le modèle \n",
    "from keras.models import load_model\n",
    "model.save('./Saved_Models/model_cat_dog.h5')"
   ]
  },
  {
   "cell_type": "code",
   "execution_count": 20,
   "id": "ee08c99b",
   "metadata": {
    "execution": {
     "iopub.execute_input": "2022-10-22T13:17:56.025110Z",
     "iopub.status.busy": "2022-10-22T13:17:56.024717Z",
     "iopub.status.idle": "2022-10-22T13:17:56.034703Z",
     "shell.execute_reply": "2022-10-22T13:17:56.033751Z"
    },
    "papermill": {
     "duration": 0.661591,
     "end_time": "2022-10-22T13:17:56.037536",
     "exception": false,
     "start_time": "2022-10-22T13:17:55.375945",
     "status": "completed"
    },
    "tags": []
   },
   "outputs": [
    {
     "name": "stdout",
     "output_type": "stream",
     "text": [
      "        loss  accuracy  val_loss  val_accuracy       lr\n",
      "0   0.816701   0.57855  0.689571        0.6012  0.00100\n",
      "1   0.616766   0.68135  0.552113        0.7452  0.00100\n",
      "2   0.537518   0.74815  0.496956        0.7784  0.00100\n",
      "3   0.487730   0.78640  0.458912        0.8038  0.00100\n",
      "4   0.429783   0.82185  0.416475        0.8232  0.00100\n",
      "5   0.382459   0.84755  0.349840        0.8620  0.00100\n",
      "6   0.331423   0.87255  0.363800        0.8524  0.00100\n",
      "7   0.307186   0.88735  0.315437        0.8788  0.00100\n",
      "8   0.277432   0.89590  0.280174        0.8930  0.00100\n",
      "9   0.258623   0.90470  0.286107        0.8898  0.00100\n",
      "10  0.229829   0.92180  0.300432        0.8928  0.00100\n",
      "11  0.217212   0.92645  0.287747        0.8930  0.00100\n",
      "12  0.145031   0.95665  0.248331        0.9140  0.00010\n",
      "13  0.124570   0.96465  0.251609        0.9110  0.00010\n",
      "14  0.116196   0.96630  0.241357        0.9120  0.00010\n",
      "15  0.109032   0.96975  0.248815        0.9160  0.00010\n",
      "16  0.104586   0.96910  0.248106        0.9160  0.00010\n",
      "17  0.099769   0.97315  0.250121        0.9160  0.00010\n",
      "18  0.088855   0.97745  0.248351        0.9164  0.00001\n",
      "19  0.087758   0.97745  0.249760        0.9156  0.00001\n"
     ]
    }
   ],
   "source": [
    "#On observe l'évolution des valeurs de perte et de précision selon les époques :\n",
    "history_df = pd.DataFrame(history.history)\n",
    "print(history_df)"
   ]
  },
  {
   "cell_type": "code",
   "execution_count": 21,
   "id": "3f0b4737",
   "metadata": {
    "execution": {
     "iopub.execute_input": "2022-10-22T13:17:57.411151Z",
     "iopub.status.busy": "2022-10-22T13:17:57.410610Z",
     "iopub.status.idle": "2022-10-22T13:17:57.636303Z",
     "shell.execute_reply": "2022-10-22T13:17:57.635389Z"
    },
    "papermill": {
     "duration": 0.948482,
     "end_time": "2022-10-22T13:17:57.638469",
     "exception": false,
     "start_time": "2022-10-22T13:17:56.689987",
     "status": "completed"
    },
    "tags": []
   },
   "outputs": [
    {
     "name": "stdout",
     "output_type": "stream",
     "text": [
      "Minimum validation loss: 0.24135653674602509\n"
     ]
    },
    {
     "data": {
      "image/png": "[encoded data removed]",
      "text/plain": [
       "<Figure size 432x288 with 1 Axes>"
      ]
     },
     "metadata": {
      "needs_background": "light"
     },
     "output_type": "display_data"
    }
   ],
   "source": [
    "#Le graphique de la fonction de perte:\n",
    "history_df.loc[:, ['loss', 'val_loss']].plot();\n",
    "print(\"Minimum validation loss: {}\".format(history_df['val_loss'].min()))"
   ]
  },
  {
   "cell_type": "code",
   "execution_count": 22,
   "id": "7c9fef0b",
   "metadata": {
    "execution": {
     "iopub.execute_input": "2022-10-22T13:17:59.016867Z",
     "iopub.status.busy": "2022-10-22T13:17:59.016506Z",
     "iopub.status.idle": "2022-10-22T13:17:59.308968Z",
     "shell.execute_reply": "2022-10-22T13:17:59.307971Z"
    },
    "papermill": {
     "duration": 0.99527,
     "end_time": "2022-10-22T13:17:59.311479",
     "exception": false,
     "start_time": "2022-10-22T13:17:58.316209",
     "status": "completed"
    },
    "tags": []
   },
   "outputs": [
    {
     "name": "stdout",
     "output_type": "stream",
     "text": [
      "Maximum validation accuracy : 0.9164000153541565\n"
     ]
    },
    {
     "data": {
      "image/png": "[encoded data removed]",
      "text/plain": [
       "<Figure size 432x288 with 1 Axes>"
      ]
     },
     "metadata": {
      "needs_background": "light"
     },
     "output_type": "display_data"
    }
   ],
   "source": [
    "#Le graphique de la fonction de précision:\n",
    "history_df.loc[:, ['accuracy', 'val_accuracy']].plot();\n",
    "print(\"Maximum validation accuracy : {}\".format(history_df['val_accuracy'].max()))"
   ]
  }
 ],
 "metadata": {
  "kernelspec": {
   "display_name": "Python 3",
   "language": "python",
   "name": "python3"
  },
  "language_info": {
   "codemirror_mode": {
    "name": "ipython",
    "version": 3
   },
   "file_extension": ".py",
   "mimetype": "text/x-python",
   "name": "python",
   "nbconvert_exporter": "python",
   "pygments_lexer": "ipython3",
   "version": "3.7.12"
  },
  "papermill": {
   "default_parameters": {},
   "duration": 1544.248624,
   "end_time": "2022-10-22T13:18:03.835161",
   "environment_variables": {},
   "exception": null,
   "input_path": "__notebook__.ipynb",
   "output_path": "__notebook__.ipynb",
   "parameters": {},
   "start_time": "2022-10-22T12:52:19.586537",
   "version": "2.3.4"
  }
 },
 "nbformat": 4,
 "nbformat_minor": 5
}
